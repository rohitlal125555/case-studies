{
 "cells": [
  {
   "cell_type": "markdown",
   "metadata": {},
   "source": [
    "# Gesture Recognition\n",
    "In this group project, you are going to build a 3D Conv model that will be able to predict the 5 gestures correctly. Please import the following libraries to get started."
   ]
  },
  {
   "cell_type": "code",
   "execution_count": 1,
   "metadata": {},
   "outputs": [
    {
     "name": "stderr",
     "output_type": "stream",
     "text": [
      "Using TensorFlow backend.\n"
     ]
    }
   ],
   "source": [
    "import os\n",
    "import warnings\n",
    "warnings.filterwarnings(\"ignore\")\n",
    "import numpy as np\n",
    "from sys import getsizeof\n",
    "from datetime import datetime\n",
    "\n",
    "# image processing libaries\n",
    "import cv2\n",
    "from scipy.misc import imread, imresize\n",
    "\n",
    "# plotting libraries\n",
    "import matplotlib.pyplot as plt\n",
    "% matplotlib inline\n",
    "\n",
    "# keras libraries\n",
    "from keras.models import Sequential, Model\n",
    "from keras.layers import Dense, GRU, Flatten, TimeDistributed, Flatten, BatchNormalization, Activation\n",
    "from keras.layers.convolutional import Conv3D, MaxPooling3D, Conv2D, MaxPooling2D\n",
    "from keras.layers.recurrent import LSTM\n",
    "from keras.callbacks import ModelCheckpoint, ReduceLROnPlateau\n",
    "from keras import optimizers\n",
    "from keras.layers import Dropout\n",
    "from keras.applications import mobilenet"
   ]
  },
  {
   "cell_type": "markdown",
   "metadata": {},
   "source": [
    "We set the random seed so that the results don't vary drastically."
   ]
  },
  {
   "cell_type": "code",
   "execution_count": 2,
   "metadata": {},
   "outputs": [],
   "source": [
    "np.random.seed(30)\n",
    "import random as rn\n",
    "rn.seed(30)\n",
    "from keras import backend as K\n",
    "import tensorflow as tf\n",
    "tf.set_random_seed(30)"
   ]
  },
  {
   "cell_type": "markdown",
   "metadata": {},
   "source": [
    "In this block, you read the folder names for training and validation. You also set the `batch_size` here. Note that you set the batch size in such a way that you are able to use the GPU in full capacity. You keep increasing the batch size until the machine throws an error."
   ]
  },
  {
   "cell_type": "code",
   "execution_count": 3,
   "metadata": {},
   "outputs": [],
   "source": [
    "base_path = 'Dataset/'\n",
    "train_path = base_path + 'train'\n",
    "val_path = base_path + 'val'\n",
    "\n",
    "train_doc = np.random.permutation(open(os.path.join(base_path, 'train.csv')).readlines())\n",
    "val_doc = np.random.permutation(open(os.path.join(base_path, 'val.csv')).readlines())\n",
    "\n",
    "num_train_sequences = len(train_doc)\n",
    "num_val_sequences = len(val_doc)"
   ]
  },
  {
   "cell_type": "code",
   "execution_count": 4,
   "metadata": {},
   "outputs": [],
   "source": [
    "# parameters \n",
    "num_classes = 5\n",
    "batch_size = 40\n",
    "total_frames = 30\n",
    "sampled_frames = 30\n",
    "img_height = 160\n",
    "img_width = 160\n",
    "num_epochs = 1"
   ]
  },
  {
   "cell_type": "code",
   "execution_count": 5,
   "metadata": {},
   "outputs": [
    {
     "name": "stdout",
     "output_type": "stream",
     "text": [
      "Training Sequences : 663\n",
      "Validation Sequences : 100\n",
      "Epochs : 1\n"
     ]
    }
   ],
   "source": [
    "print(f'Training Sequences : {num_train_sequences}')\n",
    "print(f'Validation Sequences : {num_val_sequences}')\n",
    "print(f'Epochs : {num_epochs}')"
   ]
  },
  {
   "cell_type": "code",
   "execution_count": 6,
   "metadata": {},
   "outputs": [],
   "source": [
    "# utility function for plotting training results\n",
    "def plot_training_stats(history):\n",
    "    \n",
    "    fig, ax = plt.subplots(nrows=1, ncols=2, figsize=(15,4))\n",
    "    ax[0].plot(history.history['loss'])   \n",
    "    ax[0].plot(history.history['val_loss'])\n",
    "    ax[0].legend(['loss','val_loss'])\n",
    "\n",
    "    ax[1].plot(history.history['categorical_accuracy'])   \n",
    "    ax[1].plot(history.history['val_categorical_accuracy'])\n",
    "    ax[1].legend(['categorical_accuracy','val_categorical_accuracy'])"
   ]
  },
  {
   "cell_type": "code",
   "execution_count": null,
   "metadata": {},
   "outputs": [],
   "source": []
  },
  {
   "cell_type": "markdown",
   "metadata": {},
   "source": [
    "## Generator\n",
    "This is one of the most important part of the code. The overall structure of the generator has been given. In the generator, you are going to preprocess the images as you have images of 2 different dimensions as well as create a batch of video frames. You have to experiment with `img_idx`, `y`,`z` and normalization such that you get high accuracy."
   ]
  },
  {
   "cell_type": "code",
   "execution_count": 7,
   "metadata": {},
   "outputs": [],
   "source": [
    "def generator(source_path, folder_list, batch_size, total_frames, sampled_frames, img_height, img_width, img_augmentation=False):\n",
    "    \n",
    "    print(f'Source dir: \"{source_path}\", Batch Size: {batch_size}')\n",
    "    \n",
    "    #create a list of image numbers you want to use for a particular video\n",
    "    img_idx = np.round(np.linspace(0, total_frames-1, sampled_frames)).astype(int)\n",
    "    \n",
    "    def prepare_batch(batch, batch_size, img_idx, img_height, img_width, source_path, img_augmentation, len_seq):\n",
    "        \n",
    "        # x is the number of images you use for each video, (y,z) is the final size of the input images \n",
    "        # and 3 is the number of channels RGB\n",
    "        batch_data = np.zeros((len_seq, len(img_idx), img_height, img_width,3))\n",
    "        # batch_labels is the one hot representation of the output\n",
    "        batch_labels = np.zeros((len_seq, 5))\n",
    "\n",
    "        # iterate over the batch_size\n",
    "        for folder in range(len_seq):\n",
    "\n",
    "            # read all the images in the folder\n",
    "            imgs = os.listdir(source_path+'/'+ t[folder + (batch*batch_size)].split(';')[0])\n",
    "\n",
    "            #  Iterate iver the frames/images of a folder to read them in\n",
    "            for idx,item in enumerate(img_idx): \n",
    "\n",
    "                image = imread(source_path+'/'+t[folder + (batch*batch_size)].strip().split(';')[0]+'/'+imgs[item]).astype(np.float32)\n",
    "\n",
    "                if img_augmentation:\n",
    "                    \n",
    "#                     warped = cv2.warpAffine(\n",
    "#                         image, np.float32([[1, 0, np.random.randint(-30,30)],[0, 1, np.random.randint(-30,30)]]), \n",
    "#                         (image.shape[1], image.shape[0])\n",
    "#                     )\n",
    "\n",
    "#                     gray = cv2.cvtColor(warped,cv2.COLOR_BGR2GRAY)\n",
    "#                     x0, y0 = np.argwhere(gray > 0).min(axis=0)\n",
    "#                     x1, y1 = np.argwhere(gray > 0).max(axis=0) \n",
    "#                     img_cropped = warped[x0:x1, y0:y1, :]\n",
    "#                     img_resized = imresize(img_cropped,(img_height, img_width, 3))\n",
    "\n",
    "                    img_resized = imresize(image,(img_height, img_width, 3))\n",
    "                    \n",
    "                    R_Mat = cv2.getRotationMatrix2D((img_width//2, img_height//2), np.random.randint(-7,7), 1.0)\n",
    "                    img_resized = cv2.warpAffine(img_resized, R_Mat, (img_width, img_height))\n",
    "\n",
    "                    batch_data[folder,idx,:,:,0] = (img_resized[:,:,0])/255\n",
    "                    batch_data[folder,idx,:,:,1] = (img_resized[:,:,1])/255\n",
    "                    batch_data[folder,idx,:,:,2] = (img_resized[:,:,2])/255\n",
    "\n",
    "                else:\n",
    "                    img_resized=imresize(image,(img_height, img_width, 3))\n",
    "\n",
    "                    batch_data[folder,idx,:,:,0] = (img_resized[:,:,0])/255\n",
    "                    batch_data[folder,idx,:,:,1] = (img_resized[:,:,1])/255\n",
    "                    batch_data[folder,idx,:,:,2] = (img_resized[:,:,2])/255\n",
    "\n",
    "            batch_labels[folder, int(t[folder + (batch*batch_size)].strip().split(';')[2])] = 1\n",
    "\n",
    "        return batch_data, batch_labels\n",
    "    \n",
    "    \n",
    "    while True:\n",
    "        t = np.random.permutation(folder_list)\n",
    "        \n",
    "        # calculate the number of batches\n",
    "        num_batches = len(t)//batch_size\n",
    "        \n",
    "        # we iterate over the number of batches\n",
    "        for batch in range(num_batches):\n",
    "            \n",
    "            batch_data, batch_labels = prepare_batch(\n",
    "                batch, batch_size, img_idx, img_height, img_width, source_path, img_augmentation, len_seq=batch_size)\n",
    "                        \n",
    "            # yield the batch_data and the batch_labels, remember what does yield do\n",
    "            yield batch_data, batch_labels\n",
    "\n",
    "        # write the code for the remaining data points which are left after full batches\n",
    "        rem_img = len(t) % batch_size\n",
    "        \n",
    "        if (rem_img != 0):\n",
    "            batch_data, batch_labels = prepare_batch(\n",
    "                batch, batch_size, img_idx, img_height, img_width, source_path, img_augmentation, len_seq=rem_img)\n",
    "            \n",
    "            yield batch_data, batch_labels "
   ]
  },
  {
   "cell_type": "markdown",
   "metadata": {},
   "source": [
    "Note here that a video is represented above in the generator as (number of images, height, width, number of channels). Take this into consideration while creating the model architecture."
   ]
  },
  {
   "cell_type": "markdown",
   "metadata": {},
   "source": [
    "## Model\n",
    "Here you make the model using different functionalities that Keras provides. Remember to use `Conv3D` and `MaxPooling3D` and not `Conv2D` and `Maxpooling2D` for a 3D convolution model. You would want to use `TimeDistributed` while building a Conv2D + RNN model. Also remember that the last layer is the softmax. Design the network in such a way that the model is able to give good accuracy on the least number of parameters so that it can fit in the memory of the webcam."
   ]
  },
  {
   "cell_type": "markdown",
   "metadata": {},
   "source": [
    "### Conv3D + MaxPooling3D Model"
   ]
  },
  {
   "cell_type": "code",
   "execution_count": 8,
   "metadata": {},
   "outputs": [],
   "source": [
    "#write your model here\n",
    "\n",
    "def create_model(total_frames, sampled_frames, img_height, img_width, num_classes):\n",
    "    \n",
    "    model = Sequential()\n",
    "    # conv3d layer\n",
    "    model.add(Conv3D(16, (3, 3, 3), padding='same', input_shape=(sampled_frames, img_height, img_width, 3)))\n",
    "    model.add(Activation('relu'))\n",
    "    model.add(BatchNormalization())\n",
    "    model.add(MaxPooling3D(pool_size=(2, 2, 2)))\n",
    "    \n",
    "    # conv3d layer\n",
    "    model.add(Conv3D(32, (2, 2, 2), padding='same'))\n",
    "    model.add(Activation('relu'))\n",
    "    model.add(BatchNormalization())\n",
    "    model.add(MaxPooling3D(pool_size=(2, 2, 2)))\n",
    "    \n",
    "    # conv3d layer\n",
    "    model.add(Conv3D(64, (2, 2, 2), padding='same'))\n",
    "    model.add(Activation('relu'))\n",
    "    model.add(BatchNormalization())\n",
    "    model.add(MaxPooling3D(pool_size=(2, 2, 2)))\n",
    "\n",
    "    # conv3d layer\n",
    "    model.add(Conv3D(128, (2, 2, 2), padding='same'))\n",
    "    model.add(Activation('relu'))\n",
    "    model.add(BatchNormalization())\n",
    "    model.add(MaxPooling3D(pool_size=(2, 2, 2)))\n",
    "    \n",
    "    # Dense layer with drop out\n",
    "    model.add(Flatten())\n",
    "    model.add(Dense(128,activation='relu'))\n",
    "    model.add(BatchNormalization())\n",
    "    model.add(Dropout(0.5))\n",
    "    \n",
    "    # Dense layer with drop out\n",
    "    model.add(Dense(64,activation='relu'))\n",
    "    model.add(BatchNormalization())\n",
    "    model.add(Dropout(0.25))\n",
    "\n",
    "    # Dense layer\n",
    "    model.add(Dense(num_classes, activation='softmax'))\n",
    "    \n",
    "    #optimiser = 'sgd'\n",
    "    optimiser = optimizers.Adam()\n",
    "    \n",
    "    model.compile(optimizer=optimiser, loss='categorical_crossentropy', metrics=['categorical_accuracy'])\n",
    "    \n",
    "    return model"
   ]
  },
  {
   "cell_type": "markdown",
   "metadata": {},
   "source": [
    "Now that you have written the model, the next step is to `compile` the model. When you print the `summary` of the model, you'll see the total number of parameters you have to train."
   ]
  },
  {
   "cell_type": "code",
   "execution_count": 9,
   "metadata": {},
   "outputs": [],
   "source": [
    "model = create_model(total_frames, sampled_frames, img_height, img_width, num_classes)"
   ]
  },
  {
   "cell_type": "code",
   "execution_count": 10,
   "metadata": {
    "scrolled": true
   },
   "outputs": [
    {
     "name": "stdout",
     "output_type": "stream",
     "text": [
      "_________________________________________________________________\n",
      "Layer (type)                 Output Shape              Param #   \n",
      "=================================================================\n",
      "conv3d_1 (Conv3D)            (None, 30, 160, 160, 16)  1312      \n",
      "_________________________________________________________________\n",
      "activation_1 (Activation)    (None, 30, 160, 160, 16)  0         \n",
      "_________________________________________________________________\n",
      "batch_normalization_1 (Batch (None, 30, 160, 160, 16)  64        \n",
      "_________________________________________________________________\n",
      "max_pooling3d_1 (MaxPooling3 (None, 15, 80, 80, 16)    0         \n",
      "_________________________________________________________________\n",
      "conv3d_2 (Conv3D)            (None, 15, 80, 80, 32)    4128      \n",
      "_________________________________________________________________\n",
      "activation_2 (Activation)    (None, 15, 80, 80, 32)    0         \n",
      "_________________________________________________________________\n",
      "batch_normalization_2 (Batch (None, 15, 80, 80, 32)    128       \n",
      "_________________________________________________________________\n",
      "max_pooling3d_2 (MaxPooling3 (None, 7, 40, 40, 32)     0         \n",
      "_________________________________________________________________\n",
      "conv3d_3 (Conv3D)            (None, 7, 40, 40, 64)     16448     \n",
      "_________________________________________________________________\n",
      "activation_3 (Activation)    (None, 7, 40, 40, 64)     0         \n",
      "_________________________________________________________________\n",
      "batch_normalization_3 (Batch (None, 7, 40, 40, 64)     256       \n",
      "_________________________________________________________________\n",
      "max_pooling3d_3 (MaxPooling3 (None, 3, 20, 20, 64)     0         \n",
      "_________________________________________________________________\n",
      "conv3d_4 (Conv3D)            (None, 3, 20, 20, 128)    65664     \n",
      "_________________________________________________________________\n",
      "activation_4 (Activation)    (None, 3, 20, 20, 128)    0         \n",
      "_________________________________________________________________\n",
      "batch_normalization_4 (Batch (None, 3, 20, 20, 128)    512       \n",
      "_________________________________________________________________\n",
      "max_pooling3d_4 (MaxPooling3 (None, 1, 10, 10, 128)    0         \n",
      "_________________________________________________________________\n",
      "flatten_1 (Flatten)          (None, 12800)             0         \n",
      "_________________________________________________________________\n",
      "dense_1 (Dense)              (None, 128)               1638528   \n",
      "_________________________________________________________________\n",
      "batch_normalization_5 (Batch (None, 128)               512       \n",
      "_________________________________________________________________\n",
      "dropout_1 (Dropout)          (None, 128)               0         \n",
      "_________________________________________________________________\n",
      "dense_2 (Dense)              (None, 64)                8256      \n",
      "_________________________________________________________________\n",
      "batch_normalization_6 (Batch (None, 64)                256       \n",
      "_________________________________________________________________\n",
      "dropout_2 (Dropout)          (None, 64)                0         \n",
      "_________________________________________________________________\n",
      "dense_3 (Dense)              (None, 5)                 325       \n",
      "=================================================================\n",
      "Total params: 1,736,389\n",
      "Trainable params: 1,735,525\n",
      "Non-trainable params: 864\n",
      "_________________________________________________________________\n",
      "None\n"
     ]
    }
   ],
   "source": [
    "print(model.summary())"
   ]
  },
  {
   "cell_type": "markdown",
   "metadata": {},
   "source": [
    "The `steps_per_epoch` and `validation_steps` are used by `fit_generator` to decide the number of next() calls it need to make."
   ]
  },
  {
   "cell_type": "code",
   "execution_count": 11,
   "metadata": {},
   "outputs": [],
   "source": [
    "def train_model(model, train_doc, val_doc, batch_size, num_epochs, img_augmentation):\n",
    "    \n",
    "    train_generator = generator(\n",
    "        train_path, train_doc, batch_size, total_frames, sampled_frames, img_height, img_width, img_augmentation)\n",
    "\n",
    "    val_generator = generator(\n",
    "        val_path, val_doc, batch_size, total_frames, sampled_frames, img_height, img_width, img_augmentation)\n",
    "\n",
    "    curr_dt_time = datetime.now()\n",
    "    model_name = 'model_init' + '_' + str(curr_dt_time).replace(' ','_').replace(':','_') + '/'\n",
    "\n",
    "    if not os.path.exists(model_name):\n",
    "        os.mkdir(model_name)\n",
    "\n",
    "    filepath = model_name + 'model-{epoch:05d}-{loss:.5f}-{categorical_accuracy:.5f}-{val_loss:.5f}-{val_categorical_accuracy:.5f}.h5'\n",
    "\n",
    "    checkpoint = ModelCheckpoint(filepath, monitor='val_loss', verbose=1, save_best_only=False, save_weights_only=False, mode='auto', period=1)\n",
    "\n",
    "    LR = ReduceLROnPlateau(monitor='val_loss', factor=0.2, verbose=1, patience=4)\n",
    "    callbacks_list = [checkpoint, LR]\n",
    "    \n",
    "    num_train_sequences = len(train_doc)\n",
    "    if (num_train_sequences % batch_size) == 0:\n",
    "        steps_per_epoch = int(num_train_sequences / batch_size)\n",
    "    else:\n",
    "        steps_per_epoch = (num_train_sequences//batch_size) + 1\n",
    "    \n",
    "    num_val_sequences = len(val_doc)\n",
    "    if (num_val_sequences % batch_size) == 0:\n",
    "        validation_steps = int(num_val_sequences / batch_size)\n",
    "    else:\n",
    "        validation_steps = (num_val_sequences // batch_size) + 1\n",
    "\n",
    "    history = model.fit_generator(\n",
    "        train_generator, steps_per_epoch=steps_per_epoch, epochs=num_epochs, \n",
    "        validation_data=val_generator, validation_steps=validation_steps,\n",
    "        verbose=1, callbacks=callbacks_list, class_weight=None, workers=1, initial_epoch=0\n",
    "    )\n",
    "    \n",
    "    return history"
   ]
  },
  {
   "cell_type": "markdown",
   "metadata": {},
   "source": [
    "Let us now fit the model. This will start training the model and with the help of the checkpoints, you'll be able to save the model at the end of each epoch."
   ]
  },
  {
   "cell_type": "code",
   "execution_count": 12,
   "metadata": {},
   "outputs": [],
   "source": [
    "# history = train_model(model, train_doc, val_doc, batch_size, num_epochs, img_augmentation)"
   ]
  },
  {
   "cell_type": "markdown",
   "metadata": {},
   "source": [
    "#### We hit the Memory Overflow with image resolution 160x160 and 30 frames & batch size of 40"
   ]
  },
  {
   "cell_type": "markdown",
   "metadata": {},
   "source": [
    "ResourceExhaustedError: OOM when allocating tensor with shape[40,16,30,160,160]"
   ]
  },
  {
   "cell_type": "markdown",
   "metadata": {},
   "source": [
    "#### Let us try changing the hyperparameters to fit the model training requirements in available memory."
   ]
  },
  {
   "cell_type": "code",
   "execution_count": 13,
   "metadata": {},
   "outputs": [],
   "source": [
    "total_frames, sampled_frames, num_classes = 30, 16, 5\n",
    "img_height, img_width = 160, 160\n",
    "num_epochs, batch_size = 3, 30"
   ]
  },
  {
   "cell_type": "code",
   "execution_count": 14,
   "metadata": {},
   "outputs": [
    {
     "name": "stdout",
     "output_type": "stream",
     "text": [
      "Epoch 1/3\n",
      "Source dir: \"Dataset/train\", Batch Size: 30\n",
      "Source dir: \"Dataset/val\", Batch Size: 30\n",
      "23/23 [==============================] - 66s 3s/step - loss: 1.4661 - categorical_accuracy: 0.4353 - val_loss: 1.3824 - val_categorical_accuracy: 0.4700\n",
      "\n",
      "Epoch 00001: saving model to model_init_2021-03-29_22_39_17.275907/model-00001-1.50890-0.41327-1.38240-0.47000.h5\n",
      "Epoch 2/3\n",
      "23/23 [==============================] - 52s 2s/step - loss: 0.9084 - categorical_accuracy: 0.6661 - val_loss: 0.6615 - val_categorical_accuracy: 0.7400\n",
      "\n",
      "Epoch 00002: saving model to model_init_2021-03-29_22_39_17.275907/model-00002-0.93052-0.65309-0.66147-0.74000.h5\n",
      "Epoch 3/3\n",
      "23/23 [==============================] - 54s 2s/step - loss: 0.7272 - categorical_accuracy: 0.7146 - val_loss: 1.0572 - val_categorical_accuracy: 0.5900\n",
      "\n",
      "Epoch 00003: saving model to model_init_2021-03-29_22_39_17.275907/model-00003-0.71732-0.71644-1.05717-0.59000.h5\n"
     ]
    }
   ],
   "source": [
    "model = create_model(total_frames, sampled_frames, img_height, img_width, num_classes)\n",
    "history = train_model(model, train_doc, val_doc, batch_size, num_epochs, img_augmentation=False)"
   ]
  },
  {
   "cell_type": "markdown",
   "metadata": {},
   "source": [
    "##### We can see, clearly the model is training well. At just third epoch, we are getting the categorical accuracy of approx `77%`"
   ]
  },
  {
   "cell_type": "code",
   "execution_count": null,
   "metadata": {},
   "outputs": [],
   "source": []
  },
  {
   "cell_type": "markdown",
   "metadata": {},
   "source": [
    "### Let us experiment and find the right set of hyper-parameters that gives best performance for the model."
   ]
  },
  {
   "cell_type": "markdown",
   "metadata": {},
   "source": [
    "### Without No Data Augmentation"
   ]
  },
  {
   "cell_type": "code",
   "execution_count": 106,
   "metadata": {},
   "outputs": [
    {
     "name": "stdout",
     "output_type": "stream",
     "text": [
      "Epoch 1/3\n",
      "Image dir =  Dataset/trainImage dir =  Dataset/val ; batch size = 30\n",
      " ; batch size = 30\n",
      "23/23 [==============================] - 89s 4s/step - loss: 1.3498 - categorical_accuracy: 0.4843 - val_loss: 2.2461 - val_categorical_accuracy: 0.3400\n",
      "\n",
      "Epoch 00001: saving model to model_init_2021-03-2917_36_11.425892/model-00001-1.36454-0.49020-2.24609-0.34000.h5\n",
      "Epoch 2/3\n",
      "23/23 [==============================] - 60s 3s/step - loss: 0.7316 - categorical_accuracy: 0.7059 - val_loss: 0.5854 - val_categorical_accuracy: 0.8400\n",
      "\n",
      "Epoch 00002: saving model to model_init_2021-03-2917_36_11.425892/model-00002-0.74119-0.70739-0.58541-0.84000.h5\n",
      "Epoch 3/3\n",
      "23/23 [==============================] - 65s 3s/step - loss: 0.5511 - categorical_accuracy: 0.8040 - val_loss: 0.7586 - val_categorical_accuracy: 0.7300\n",
      "\n",
      "Epoch 00003: saving model to model_init_2021-03-2917_36_11.425892/model-00003-0.55555-0.79638-0.75862-0.73000.h5\n"
     ]
    }
   ],
   "source": [
    "total_frames, sampled_frames, num_classes = 30, 20, 5\n",
    "img_height, img_width = 160, 160\n",
    "num_epochs, batch_size = 3, 30\n",
    "\n",
    "model = create_model(total_frames, sampled_frames, img_height, img_width, num_classes)\n",
    "history = train_model(model, train_doc, val_doc, batch_size, num_epochs, img_augmentation=False)"
   ]
  },
  {
   "cell_type": "code",
   "execution_count": null,
   "metadata": {},
   "outputs": [],
   "source": []
  },
  {
   "cell_type": "code",
   "execution_count": 109,
   "metadata": {},
   "outputs": [
    {
     "name": "stdout",
     "output_type": "stream",
     "text": [
      "Epoch 1/3\n",
      "Source dir: \"Dataset/train\", Batch Size =30\n",
      "Source dir: \"Dataset/val\", Batch Size =30\n",
      "23/23 [==============================] - 69s 3s/step - loss: 1.5880 - categorical_accuracy: 0.4379 - val_loss: 2.1296 - val_categorical_accuracy: 0.3900\n",
      "\n",
      "Epoch 00001: saving model to model_init_2021-03-2917_41_55.417253/model-00001-1.53394-0.44193-2.12960-0.39000.h5\n",
      "Epoch 2/3\n",
      "23/23 [==============================] - 50s 2s/step - loss: 1.1199 - categorical_accuracy: 0.5752 - val_loss: 2.1950 - val_categorical_accuracy: 0.4000\n",
      "\n",
      "Epoch 00002: saving model to model_init_2021-03-2917_41_55.417253/model-00002-1.11940-0.57164-2.19501-0.40000.h5\n",
      "Epoch 3/3\n",
      "23/23 [==============================] - 56s 2s/step - loss: 0.8074 - categorical_accuracy: 0.7009 - val_loss: 0.8413 - val_categorical_accuracy: 0.6100\n",
      "\n",
      "Epoch 00003: saving model to model_init_2021-03-2917_41_55.417253/model-00003-0.82410-0.68929-0.84133-0.61000.h5\n"
     ]
    }
   ],
   "source": [
    "total_frames, sampled_frames, num_classes = 30, 20, 5\n",
    "img_height, img_width = 100, 100\n",
    "num_epochs, batch_size = 3, 30\n",
    "\n",
    "model = create_model(total_frames, sampled_frames, img_height, img_width, num_classes)\n",
    "history = train_model(model, train_doc, val_doc, batch_size, num_epochs, img_augmentation=False)"
   ]
  },
  {
   "cell_type": "code",
   "execution_count": null,
   "metadata": {},
   "outputs": [],
   "source": []
  },
  {
   "cell_type": "code",
   "execution_count": 111,
   "metadata": {},
   "outputs": [
    {
     "name": "stdout",
     "output_type": "stream",
     "text": [
      "Epoch 1/3\n",
      "Source dir: \"Dataset/val\", Batch Size: 30\n",
      "Source dir: \"Dataset/train\", Batch Size: 30\n",
      "23/23 [==============================] - 73s 3s/step - loss: 1.4782 - categorical_accuracy: 0.4402 - val_loss: 2.1523 - val_categorical_accuracy: 0.3500\n",
      "\n",
      "Epoch 00001: saving model to model_init_2021-03-2917_49_19.016759/model-00001-1.48137-0.43137-2.15232-0.35000.h5\n",
      "Epoch 2/3\n",
      "23/23 [==============================] - 50s 2s/step - loss: 0.9952 - categorical_accuracy: 0.6150 - val_loss: 1.5110 - val_categorical_accuracy: 0.3900\n",
      "\n",
      "Epoch 00002: saving model to model_init_2021-03-2917_49_19.016759/model-00002-0.95380-0.62594-1.51097-0.39000.h5\n",
      "Epoch 3/3\n",
      "23/23 [==============================] - 58s 3s/step - loss: 0.7403 - categorical_accuracy: 0.7320 - val_loss: 0.7473 - val_categorical_accuracy: 0.7000\n",
      "\n",
      "Epoch 00003: saving model to model_init_2021-03-2917_49_19.016759/model-00003-0.70290-0.73454-0.74732-0.70000.h5\n"
     ]
    }
   ],
   "source": [
    "total_frames, sampled_frames, num_classes = 30, 20, 5\n",
    "img_height, img_width = 120, 120\n",
    "num_epochs, batch_size = 3, 30\n",
    "\n",
    "model = create_model(total_frames, sampled_frames, img_height, img_width, num_classes)\n",
    "history = train_model(model, train_doc, val_doc, batch_size, num_epochs, img_augmentation=False)"
   ]
  },
  {
   "cell_type": "code",
   "execution_count": null,
   "metadata": {},
   "outputs": [],
   "source": []
  },
  {
   "cell_type": "code",
   "execution_count": 113,
   "metadata": {},
   "outputs": [
    {
     "name": "stdout",
     "output_type": "stream",
     "text": [
      "Epoch 1/3\n",
      "Source dir: \"Dataset/val\", Batch Size: 20\n",
      "Source dir: \"Dataset/train\", Batch Size: 20\n",
      "34/34 [==============================] - 109s 3s/step - loss: 1.4806 - categorical_accuracy: 0.4503 - val_loss: 4.6200 - val_categorical_accuracy: 0.2900\n",
      "\n",
      "Epoch 00001: saving model to model_init_2021-03-2917_54_43.595975/model-00001-1.50119-0.44495-4.61996-0.29000.h5\n",
      "Epoch 2/3\n",
      "34/34 [==============================] - 81s 2s/step - loss: 0.9742 - categorical_accuracy: 0.6159 - val_loss: 1.4131 - val_categorical_accuracy: 0.5900\n",
      "\n",
      "Epoch 00002: saving model to model_init_2021-03-2917_54_43.595975/model-00002-0.98193-0.62293-1.41310-0.59000.h5\n",
      "Epoch 3/3\n",
      "34/34 [==============================] - 89s 3s/step - loss: 0.6954 - categorical_accuracy: 0.7322 - val_loss: 1.0016 - val_categorical_accuracy: 0.6300\n",
      "\n",
      "Epoch 00003: saving model to model_init_2021-03-2917_54_43.595975/model-00003-0.67353-0.74208-1.00155-0.63000.h5\n"
     ]
    }
   ],
   "source": [
    "total_frames, sampled_frames, num_classes = 30, 20, 5\n",
    "img_height, img_width = 240, 240\n",
    "num_epochs, batch_size = 3, 20\n",
    "\n",
    "model = create_model(total_frames, sampled_frames, img_height, img_width, num_classes)\n",
    "history = train_model(model, train_doc, val_doc, batch_size, num_epochs, img_augmentation=False)"
   ]
  },
  {
   "cell_type": "code",
   "execution_count": null,
   "metadata": {},
   "outputs": [],
   "source": []
  },
  {
   "cell_type": "markdown",
   "metadata": {},
   "source": [
    "### With Data Augmentation"
   ]
  },
  {
   "cell_type": "code",
   "execution_count": 124,
   "metadata": {},
   "outputs": [
    {
     "name": "stdout",
     "output_type": "stream",
     "text": [
      "Epoch 1/3\n",
      "Source dir: \"Dataset/train\", Batch Size: 30\n",
      "Source dir: \"Dataset/val\", Batch Size: 30\n",
      "23/23 [==============================] - 81s 4s/step - loss: 1.5592 - categorical_accuracy: 0.4059 - val_loss: 1.3310 - val_categorical_accuracy: 0.5200\n",
      "\n",
      "Epoch 00001: saving model to model_init_2021-03-2919_17_07.651711/model-00001-1.57044-0.40875-1.33097-0.52000.h5\n",
      "Epoch 2/3\n",
      "23/23 [==============================] - 51s 2s/step - loss: 1.1367 - categorical_accuracy: 0.5650 - val_loss: 1.6261 - val_categorical_accuracy: 0.4700\n",
      "\n",
      "Epoch 00002: saving model to model_init_2021-03-2919_17_07.651711/model-00002-1.11690-0.56109-1.62609-0.47000.h5\n",
      "Epoch 3/3\n",
      "23/23 [==============================] - 65s 3s/step - loss: 0.8210 - categorical_accuracy: 0.6826 - val_loss: 1.3448 - val_categorical_accuracy: 0.5100\n",
      "\n",
      "Epoch 00003: saving model to model_init_2021-03-2919_17_07.651711/model-00003-0.81858-0.68326-1.34481-0.51000.h5\n"
     ]
    }
   ],
   "source": [
    "total_frames, sampled_frames, num_classes = 30, 18, 5\n",
    "img_height, img_width = 160, 160\n",
    "num_epochs, batch_size = 3, 30\n",
    "\n",
    "model = create_model(total_frames, sampled_frames, img_height, img_width, num_classes)\n",
    "history = train_model(model, train_doc, val_doc, batch_size, num_epochs, img_augmentation=True)"
   ]
  },
  {
   "cell_type": "code",
   "execution_count": null,
   "metadata": {},
   "outputs": [],
   "source": []
  },
  {
   "cell_type": "markdown",
   "metadata": {},
   "source": [
    "#### Running for 30 epochs"
   ]
  },
  {
   "cell_type": "code",
   "execution_count": 126,
   "metadata": {},
   "outputs": [
    {
     "name": "stdout",
     "output_type": "stream",
     "text": [
      "Epoch 1/30\n",
      "Source dir: \"Dataset/val\", Batch Size: 30\n",
      "Source dir: \"Dataset/train\", Batch Size: 30\n",
      "23/23 [==============================] - 78s 3s/step - loss: 1.4542 - categorical_accuracy: 0.4257 - val_loss: 2.3308 - val_categorical_accuracy: 0.2800\n",
      "\n",
      "Epoch 00001: saving model to model_init_2021-03-2919_24_06.116069/model-00001-1.49042-0.41629-2.33084-0.28000.h5\n",
      "Epoch 2/30\n",
      "23/23 [==============================] - 48s 2s/step - loss: 1.0524 - categorical_accuracy: 0.6092 - val_loss: 1.1410 - val_categorical_accuracy: 0.5700\n",
      "\n",
      "Epoch 00002: saving model to model_init_2021-03-2919_24_06.116069/model-00002-1.02138-0.61991-1.14102-0.57000.h5\n",
      "Epoch 3/30\n",
      "23/23 [==============================] - 65s 3s/step - loss: 0.8004 - categorical_accuracy: 0.6876 - val_loss: 1.0154 - val_categorical_accuracy: 0.5900\n",
      "\n",
      "Epoch 00003: saving model to model_init_2021-03-2919_24_06.116069/model-00003-0.77999-0.70136-1.01539-0.59000.h5\n",
      "Epoch 4/30\n",
      "23/23 [==============================] - 65s 3s/step - loss: 0.7544 - categorical_accuracy: 0.7175 - val_loss: 1.2758 - val_categorical_accuracy: 0.4700\n",
      "\n",
      "Epoch 00004: saving model to model_init_2021-03-2919_24_06.116069/model-00004-0.73218-0.71946-1.27575-0.47000.h5\n",
      "Epoch 5/30\n",
      "23/23 [==============================] - 63s 3s/step - loss: 0.6328 - categorical_accuracy: 0.7793 - val_loss: 1.7692 - val_categorical_accuracy: 0.4200\n",
      "\n",
      "Epoch 00005: saving model to model_init_2021-03-2919_24_06.116069/model-00005-0.63955-0.77074-1.76918-0.42000.h5\n",
      "Epoch 6/30\n",
      "23/23 [==============================] - 64s 3s/step - loss: 0.5161 - categorical_accuracy: 0.8171 - val_loss: 0.7478 - val_categorical_accuracy: 0.7200\n",
      "\n",
      "Epoch 00006: saving model to model_init_2021-03-2919_24_06.116069/model-00006-0.52167-0.80995-0.74785-0.72000.h5\n",
      "Epoch 7/30\n",
      "23/23 [==============================] - 62s 3s/step - loss: 0.4779 - categorical_accuracy: 0.8249 - val_loss: 0.7237 - val_categorical_accuracy: 0.7400\n",
      "\n",
      "Epoch 00007: saving model to model_init_2021-03-2919_24_06.116069/model-00007-0.45900-0.83107-0.72373-0.74000.h5\n",
      "Epoch 8/30\n",
      "23/23 [==============================] - 63s 3s/step - loss: 0.6258 - categorical_accuracy: 0.7872 - val_loss: 0.5926 - val_categorical_accuracy: 0.7900\n",
      "\n",
      "Epoch 00008: saving model to model_init_2021-03-2919_24_06.116069/model-00008-0.61108-0.79186-0.59257-0.79000.h5\n",
      "Epoch 9/30\n",
      "23/23 [==============================] - 65s 3s/step - loss: 0.4415 - categorical_accuracy: 0.8452 - val_loss: 0.6796 - val_categorical_accuracy: 0.7800\n",
      "\n",
      "Epoch 00009: saving model to model_init_2021-03-2919_24_06.116069/model-00009-0.41810-0.85219-0.67963-0.78000.h5\n",
      "Epoch 10/30\n",
      "23/23 [==============================] - 63s 3s/step - loss: 0.7020 - categorical_accuracy: 0.7581 - val_loss: 5.2358 - val_categorical_accuracy: 0.3100\n",
      "\n",
      "Epoch 00010: saving model to model_init_2021-03-2919_24_06.116069/model-00010-0.66716-0.76169-5.23583-0.31000.h5\n",
      "Epoch 11/30\n",
      "23/23 [==============================] - 62s 3s/step - loss: 0.5225 - categorical_accuracy: 0.7964 - val_loss: 2.7378 - val_categorical_accuracy: 0.3700\n",
      "\n",
      "Epoch 00011: saving model to model_init_2021-03-2919_24_06.116069/model-00011-0.49732-0.81448-2.73776-0.37000.h5\n",
      "Epoch 12/30\n",
      "23/23 [==============================] - 63s 3s/step - loss: 0.4570 - categorical_accuracy: 0.8313 - val_loss: 0.7442 - val_categorical_accuracy: 0.7000\n",
      "\n",
      "Epoch 00012: saving model to model_init_2021-03-2919_24_06.116069/model-00012-0.41671-0.85068-0.74418-0.70000.h5\n",
      "\n",
      "Epoch 00012: ReduceLROnPlateau reducing learning rate to 0.00020000000949949026.\n",
      "Epoch 13/30\n",
      "23/23 [==============================] - 60s 3s/step - loss: 0.3882 - categorical_accuracy: 0.8594 - val_loss: 0.4991 - val_categorical_accuracy: 0.7900\n",
      "\n",
      "Epoch 00013: saving model to model_init_2021-03-2919_24_06.116069/model-00013-0.31738-0.89291-0.49907-0.79000.h5\n",
      "Epoch 14/30\n",
      "23/23 [==============================] - 62s 3s/step - loss: 0.2819 - categorical_accuracy: 0.8853 - val_loss: 0.4761 - val_categorical_accuracy: 0.8000\n",
      "\n",
      "Epoch 00014: saving model to model_init_2021-03-2919_24_06.116069/model-00014-0.29070-0.88084-0.47613-0.80000.h5\n",
      "Epoch 15/30\n",
      "23/23 [==============================] - 62s 3s/step - loss: 0.3430 - categorical_accuracy: 0.8850 - val_loss: 0.4268 - val_categorical_accuracy: 0.8600\n",
      "\n",
      "Epoch 00015: saving model to model_init_2021-03-2919_24_06.116069/model-00015-0.28902-0.90649-0.42677-0.86000.h5\n",
      "Epoch 16/30\n",
      "23/23 [==============================] - 62s 3s/step - loss: 0.3135 - categorical_accuracy: 0.8768 - val_loss: 0.4306 - val_categorical_accuracy: 0.8800\n",
      "\n",
      "Epoch 00016: saving model to model_init_2021-03-2919_24_06.116069/model-00016-0.25137-0.91101-0.43062-0.88000.h5\n",
      "Epoch 17/30\n",
      "23/23 [==============================] - 62s 3s/step - loss: 0.3089 - categorical_accuracy: 0.8652 - val_loss: 0.4018 - val_categorical_accuracy: 0.8700\n",
      "\n",
      "Epoch 00017: saving model to model_init_2021-03-2919_24_06.116069/model-00017-0.27385-0.89894-0.40181-0.87000.h5\n",
      "Epoch 18/30\n",
      "23/23 [==============================] - 64s 3s/step - loss: 0.2612 - categorical_accuracy: 0.9178 - val_loss: 0.4321 - val_categorical_accuracy: 0.8400\n",
      "\n",
      "Epoch 00018: saving model to model_init_2021-03-2919_24_06.116069/model-00018-0.25245-0.92760-0.43205-0.84000.h5\n",
      "Epoch 19/30\n",
      "23/23 [==============================] - 63s 3s/step - loss: 0.2294 - categorical_accuracy: 0.9193 - val_loss: 0.3986 - val_categorical_accuracy: 0.8500\n",
      "\n",
      "Epoch 00019: saving model to model_init_2021-03-2919_24_06.116069/model-00019-0.21581-0.92911-0.39863-0.85000.h5\n",
      "Epoch 20/30\n",
      "23/23 [==============================] - 64s 3s/step - loss: 0.2868 - categorical_accuracy: 0.9120 - val_loss: 0.4250 - val_categorical_accuracy: 0.8400\n",
      "\n",
      "Epoch 00020: saving model to model_init_2021-03-2919_24_06.116069/model-00020-0.22859-0.92157-0.42497-0.84000.h5\n",
      "Epoch 21/30\n",
      "23/23 [==============================] - 65s 3s/step - loss: 0.2020 - categorical_accuracy: 0.9405 - val_loss: 0.3888 - val_categorical_accuracy: 0.8600\n",
      "\n",
      "Epoch 00021: saving model to model_init_2021-03-2919_24_06.116069/model-00021-0.20327-0.93816-0.38884-0.86000.h5\n",
      "Epoch 22/30\n",
      "23/23 [==============================] - 64s 3s/step - loss: 0.2269 - categorical_accuracy: 0.9245 - val_loss: 0.3910 - val_categorical_accuracy: 0.8900\n",
      "\n",
      "Epoch 00022: saving model to model_init_2021-03-2919_24_06.116069/model-00022-0.23219-0.92157-0.39104-0.89000.h5\n",
      "Epoch 23/30\n",
      "23/23 [==============================] - 64s 3s/step - loss: 0.2461 - categorical_accuracy: 0.9178 - val_loss: 0.4436 - val_categorical_accuracy: 0.8300\n",
      "\n",
      "Epoch 00023: saving model to model_init_2021-03-2919_24_06.116069/model-00023-0.21869-0.92760-0.44362-0.83000.h5\n",
      "Epoch 24/30\n",
      "23/23 [==============================] - 64s 3s/step - loss: 0.1723 - categorical_accuracy: 0.9419 - val_loss: 0.3512 - val_categorical_accuracy: 0.8600\n",
      "\n",
      "Epoch 00024: saving model to model_init_2021-03-2919_24_06.116069/model-00024-0.17813-0.93967-0.35119-0.86000.h5\n",
      "Epoch 25/30\n",
      "23/23 [==============================] - 64s 3s/step - loss: 0.2012 - categorical_accuracy: 0.9390 - val_loss: 0.4279 - val_categorical_accuracy: 0.8300\n",
      "\n",
      "Epoch 00025: saving model to model_init_2021-03-2919_24_06.116069/model-00025-0.20617-0.93665-0.42791-0.83000.h5\n",
      "Epoch 26/30\n",
      "23/23 [==============================] - 64s 3s/step - loss: 0.1821 - categorical_accuracy: 0.9367 - val_loss: 0.3785 - val_categorical_accuracy: 0.9000\n",
      "\n",
      "Epoch 00026: saving model to model_init_2021-03-2919_24_06.116069/model-00026-0.16495-0.94721-0.37853-0.90000.h5\n",
      "Epoch 27/30\n",
      "23/23 [==============================] - 64s 3s/step - loss: 0.1934 - categorical_accuracy: 0.9323 - val_loss: 0.4664 - val_categorical_accuracy: 0.8300\n",
      "\n",
      "Epoch 00027: saving model to model_init_2021-03-2919_24_06.116069/model-00027-0.17265-0.94268-0.46636-0.83000.h5\n",
      "Epoch 28/30\n",
      "23/23 [==============================] - 64s 3s/step - loss: 0.2176 - categorical_accuracy: 0.9396 - val_loss: 0.4160 - val_categorical_accuracy: 0.8500\n",
      "\n",
      "Epoch 00028: saving model to model_init_2021-03-2919_24_06.116069/model-00028-0.18109-0.95023-0.41596-0.85000.h5\n",
      "\n",
      "Epoch 00028: ReduceLROnPlateau reducing learning rate to 4.0000001899898055e-05.\n",
      "Epoch 29/30\n",
      "23/23 [==============================] - 64s 3s/step - loss: 0.1584 - categorical_accuracy: 0.9579 - val_loss: 0.4052 - val_categorical_accuracy: 0.8700\n"
     ]
    },
    {
     "name": "stdout",
     "output_type": "stream",
     "text": [
      "\n",
      "Epoch 00029: saving model to model_init_2021-03-2919_24_06.116069/model-00029-0.16273-0.95626-0.40522-0.87000.h5\n",
      "Epoch 30/30\n",
      "23/23 [==============================] - 64s 3s/step - loss: 0.1832 - categorical_accuracy: 0.9381 - val_loss: 0.3895 - val_categorical_accuracy: 0.8700\n",
      "\n",
      "Epoch 00030: saving model to model_init_2021-03-2919_24_06.116069/model-00030-0.17270-0.94872-0.38948-0.87000.h5\n"
     ]
    }
   ],
   "source": [
    "total_frames, sampled_frames, num_classes = 30, 18, 5\n",
    "img_height, img_width = 160, 160\n",
    "num_epochs, batch_size = 30, 30\n",
    "\n",
    "model = create_model(total_frames, sampled_frames, img_height, img_width, num_classes)\n",
    "print(\"Total Params:\", model.count_params())\n",
    "history = train_model(model, train_doc, val_doc, batch_size, num_epochs, img_augmentation=True)"
   ]
  },
  {
   "cell_type": "code",
   "execution_count": 152,
   "metadata": {},
   "outputs": [
    {
     "name": "stdout",
     "output_type": "stream",
     "text": [
      "Model size in mb: 19.9\n"
     ]
    }
   ],
   "source": [
    "print('Model size in mb: {}'.format('19.9'))"
   ]
  },
  {
   "cell_type": "code",
   "execution_count": 130,
   "metadata": {},
   "outputs": [
    {
     "data": {
      "image/png": "[encoded data removed]",
      "text/plain": [
       "<Figure size 1080x288 with 2 Axes>"
      ]
     },
     "metadata": {},
     "output_type": "display_data"
    }
   ],
   "source": [
    "plot_training_stats(history)"
   ]
  },
  {
   "cell_type": "code",
   "execution_count": null,
   "metadata": {},
   "outputs": [],
   "source": []
  },
  {
   "cell_type": "markdown",
   "metadata": {},
   "source": [
    "## CNN LSTM with GRU"
   ]
  },
  {
   "cell_type": "code",
   "execution_count": 131,
   "metadata": {},
   "outputs": [],
   "source": [
    "def create_model(total_frames, sampled_frames, img_height, img_width, num_classes, lstm_cells=64, \n",
    "                 dense_neurons=64, dropout=0.25):\n",
    "    \n",
    "    model = Sequential()\n",
    "\n",
    "    model.add(TimeDistributed(Conv2D(16, (3, 3) , padding='same', activation='relu'), \n",
    "                              input_shape=(sampled_frames, img_height, img_width, 3)))\n",
    "    model.add(TimeDistributed(BatchNormalization()))\n",
    "    model.add(TimeDistributed(MaxPooling2D((2, 2))))\n",
    "\n",
    "    model.add(TimeDistributed(Conv2D(32, (3, 3) , padding='same', activation='relu')))\n",
    "    model.add(TimeDistributed(BatchNormalization()))\n",
    "    model.add(TimeDistributed(MaxPooling2D((2, 2))))\n",
    "\n",
    "    model.add(TimeDistributed(Conv2D(64, (3, 3) , padding='same', activation='relu')))\n",
    "    model.add(TimeDistributed(BatchNormalization()))\n",
    "    model.add(TimeDistributed(MaxPooling2D((2, 2))))\n",
    "\n",
    "    model.add(TimeDistributed(Conv2D(128, (3, 3) , padding='same', activation='relu')))\n",
    "    model.add(TimeDistributed(BatchNormalization()))\n",
    "    model.add(TimeDistributed(MaxPooling2D((2, 2))))\n",
    "\n",
    "    model.add(TimeDistributed(Flatten()))\n",
    "\n",
    "    model.add(GRU(lstm_cells))\n",
    "    model.add(Dropout(dropout))\n",
    "\n",
    "    model.add(Dense(dense_neurons,activation='relu'))\n",
    "    model.add(Dropout(dropout))\n",
    "\n",
    "    model.add(Dense(num_classes, activation='softmax'))\n",
    "    optimiser = optimizers.Adam(lr=0.0002)\n",
    "    model.compile(optimizer=optimiser, loss='categorical_crossentropy', metrics=['categorical_accuracy'])\n",
    "    \n",
    "    return model"
   ]
  },
  {
   "cell_type": "code",
   "execution_count": 135,
   "metadata": {},
   "outputs": [
    {
     "name": "stdout",
     "output_type": "stream",
     "text": [
      "Total Params: 2572965\n",
      "Epoch 1/30\n",
      "Source dir: \"Dataset/train\", Batch Size: 30\n",
      "Source dir: \"Dataset/val\", Batch Size: 30\n",
      "23/23 [==============================] - 78s 3s/step - loss: 1.5677 - categorical_accuracy: 0.3203 - val_loss: 1.2142 - val_categorical_accuracy: 0.6000\n",
      "\n",
      "Epoch 00001: saving model to model_init_2021-03-2920_05_49.459422/model-00001-1.56859-0.31976-1.21415-0.60000.h5\n",
      "Epoch 2/30\n",
      "23/23 [==============================] - 49s 2s/step - loss: 1.2583 - categorical_accuracy: 0.4683 - val_loss: 1.0698 - val_categorical_accuracy: 0.6200\n",
      "\n",
      "Epoch 00002: saving model to model_init_2021-03-2920_05_49.459422/model-00002-1.25660-0.47360-1.06978-0.62000.h5\n",
      "Epoch 3/30\n",
      "23/23 [==============================] - 63s 3s/step - loss: 1.0524 - categorical_accuracy: 0.5859 - val_loss: 0.9696 - val_categorical_accuracy: 0.6200\n",
      "\n",
      "Epoch 00003: saving model to model_init_2021-03-2920_05_49.459422/model-00003-1.05372-0.59578-0.96959-0.62000.h5\n",
      "Epoch 4/30\n",
      "23/23 [==============================] - 63s 3s/step - loss: 0.9289 - categorical_accuracy: 0.6478 - val_loss: 0.9474 - val_categorical_accuracy: 0.7000\n",
      "\n",
      "Epoch 00004: saving model to model_init_2021-03-2920_05_49.459422/model-00004-0.92104-0.64706-0.94740-0.70000.h5\n",
      "Epoch 5/30\n",
      "23/23 [==============================] - 64s 3s/step - loss: 0.8451 - categorical_accuracy: 0.6942 - val_loss: 0.8330 - val_categorical_accuracy: 0.7200\n",
      "\n",
      "Epoch 00005: saving model to model_init_2021-03-2920_05_49.459422/model-00005-0.81843-0.69532-0.83296-0.72000.h5\n",
      "Epoch 6/30\n",
      "23/23 [==============================] - 62s 3s/step - loss: 0.7491 - categorical_accuracy: 0.7218 - val_loss: 0.6716 - val_categorical_accuracy: 0.8100\n",
      "\n",
      "Epoch 00006: saving model to model_init_2021-03-2920_05_49.459422/model-00006-0.75756-0.72398-0.67159-0.81000.h5\n",
      "Epoch 7/30\n",
      "23/23 [==============================] - 62s 3s/step - loss: 0.6449 - categorical_accuracy: 0.7848 - val_loss: 0.8454 - val_categorical_accuracy: 0.7100\n",
      "\n",
      "Epoch 00007: saving model to model_init_2021-03-2920_05_49.459422/model-00007-0.62911-0.80241-0.84540-0.71000.h5\n",
      "Epoch 8/30\n",
      "23/23 [==============================] - 63s 3s/step - loss: 0.5829 - categorical_accuracy: 0.8301 - val_loss: 0.6893 - val_categorical_accuracy: 0.7900\n",
      "\n",
      "Epoch 00008: saving model to model_init_2021-03-2920_05_49.459422/model-00008-0.59778-0.82353-0.68932-0.79000.h5\n",
      "Epoch 9/30\n",
      "23/23 [==============================] - 64s 3s/step - loss: 0.5454 - categorical_accuracy: 0.8220 - val_loss: 0.6046 - val_categorical_accuracy: 0.8300\n",
      "\n",
      "Epoch 00009: saving model to model_init_2021-03-2920_05_49.459422/model-00009-0.53640-0.82805-0.60458-0.83000.h5\n",
      "Epoch 10/30\n",
      "23/23 [==============================] - 64s 3s/step - loss: 0.4900 - categorical_accuracy: 0.8502 - val_loss: 0.6610 - val_categorical_accuracy: 0.8100\n",
      "\n",
      "Epoch 00010: saving model to model_init_2021-03-2920_05_49.459422/model-00010-0.45202-0.87029-0.66097-0.81000.h5\n",
      "Epoch 11/30\n",
      "23/23 [==============================] - 64s 3s/step - loss: 0.4771 - categorical_accuracy: 0.8583 - val_loss: 0.6536 - val_categorical_accuracy: 0.7900\n",
      "\n",
      "Epoch 00011: saving model to model_init_2021-03-2920_05_49.459422/model-00011-0.46061-0.86576-0.65363-0.79000.h5\n",
      "Epoch 12/30\n",
      "23/23 [==============================] - 62s 3s/step - loss: 0.4287 - categorical_accuracy: 0.8690 - val_loss: 0.6292 - val_categorical_accuracy: 0.8100\n",
      "\n",
      "Epoch 00012: saving model to model_init_2021-03-2920_05_49.459422/model-00012-0.39992-0.88989-0.62921-0.81000.h5\n",
      "Epoch 13/30\n",
      "23/23 [==============================] - 63s 3s/step - loss: 0.4113 - categorical_accuracy: 0.8714 - val_loss: 0.6921 - val_categorical_accuracy: 0.7500\n",
      "\n",
      "Epoch 00013: saving model to model_init_2021-03-2920_05_49.459422/model-00013-0.39048-0.87934-0.69207-0.75000.h5\n",
      "\n",
      "Epoch 00013: ReduceLROnPlateau reducing learning rate to 3.9999998989515007e-05.\n",
      "Epoch 14/30\n",
      "23/23 [==============================] - 62s 3s/step - loss: 0.3124 - categorical_accuracy: 0.9085 - val_loss: 0.6064 - val_categorical_accuracy: 0.7500\n",
      "\n",
      "Epoch 00014: saving model to model_init_2021-03-2920_05_49.459422/model-00014-0.32256-0.90498-0.60641-0.75000.h5\n",
      "Epoch 15/30\n",
      "23/23 [==============================] - 65s 3s/step - loss: 0.2716 - categorical_accuracy: 0.9419 - val_loss: 0.6227 - val_categorical_accuracy: 0.7900\n",
      "\n",
      "Epoch 00015: saving model to model_init_2021-03-2920_05_49.459422/model-00015-0.27078-0.93967-0.62268-0.79000.h5\n",
      "Epoch 16/30\n",
      "23/23 [==============================] - 63s 3s/step - loss: 0.2506 - categorical_accuracy: 0.9463 - val_loss: 0.6605 - val_categorical_accuracy: 0.7900\n",
      "\n",
      "Epoch 00016: saving model to model_init_2021-03-2920_05_49.459422/model-00016-0.25638-0.94419-0.66049-0.79000.h5\n",
      "Epoch 17/30\n",
      "23/23 [==============================] - 64s 3s/step - loss: 0.2300 - categorical_accuracy: 0.9550 - val_loss: 0.5637 - val_categorical_accuracy: 0.8100\n",
      "\n",
      "Epoch 00017: saving model to model_init_2021-03-2920_05_49.459422/model-00017-0.23063-0.95324-0.56370-0.81000.h5\n",
      "Epoch 18/30\n",
      "23/23 [==============================] - 62s 3s/step - loss: 0.2294 - categorical_accuracy: 0.9521 - val_loss: 0.6012 - val_categorical_accuracy: 0.8000\n",
      "\n",
      "Epoch 00018: saving model to model_init_2021-03-2920_05_49.459422/model-00018-0.23064-0.95023-0.60116-0.80000.h5\n",
      "Epoch 19/30\n",
      "23/23 [==============================] - 63s 3s/step - loss: 0.2123 - categorical_accuracy: 0.9594 - val_loss: 0.5249 - val_categorical_accuracy: 0.8400\n",
      "\n",
      "Epoch 00019: saving model to model_init_2021-03-2920_05_49.459422/model-00019-0.21104-0.95777-0.52486-0.84000.h5\n",
      "Epoch 20/30\n",
      "23/23 [==============================] - 64s 3s/step - loss: 0.1885 - categorical_accuracy: 0.9695 - val_loss: 0.5574 - val_categorical_accuracy: 0.8400\n",
      "\n",
      "Epoch 00020: saving model to model_init_2021-03-2920_05_49.459422/model-00020-0.19117-0.96833-0.55736-0.84000.h5\n",
      "Epoch 21/30\n",
      "23/23 [==============================] - 63s 3s/step - loss: 0.2457 - categorical_accuracy: 0.9396 - val_loss: 0.5326 - val_categorical_accuracy: 0.8500\n",
      "\n",
      "Epoch 00021: saving model to model_init_2021-03-2920_05_49.459422/model-00021-0.21548-0.95023-0.53256-0.85000.h5\n",
      "Epoch 22/30\n",
      "23/23 [==============================] - 65s 3s/step - loss: 0.1875 - categorical_accuracy: 0.9666 - val_loss: 0.5507 - val_categorical_accuracy: 0.8300\n",
      "\n",
      "Epoch 00022: saving model to model_init_2021-03-2920_05_49.459422/model-00022-0.18523-0.96531-0.55067-0.83000.h5\n",
      "Epoch 23/30\n",
      "23/23 [==============================] - 62s 3s/step - loss: 0.1755 - categorical_accuracy: 0.9637 - val_loss: 0.5111 - val_categorical_accuracy: 0.8300\n",
      "\n",
      "Epoch 00023: saving model to model_init_2021-03-2920_05_49.459422/model-00023-0.17876-0.96229-0.51113-0.83000.h5\n",
      "Epoch 24/30\n",
      "23/23 [==============================] - 63s 3s/step - loss: 0.2600 - categorical_accuracy: 0.9387 - val_loss: 0.4758 - val_categorical_accuracy: 0.8400\n",
      "\n",
      "Epoch 00024: saving model to model_init_2021-03-2920_05_49.459422/model-00024-0.19748-0.96229-0.47578-0.84000.h5\n",
      "Epoch 25/30\n",
      "23/23 [==============================] - 64s 3s/step - loss: 0.1720 - categorical_accuracy: 0.9782 - val_loss: 0.5972 - val_categorical_accuracy: 0.8400\n",
      "\n",
      "Epoch 00025: saving model to model_init_2021-03-2920_05_49.459422/model-00025-0.16610-0.97738-0.59720-0.84000.h5\n",
      "Epoch 26/30\n",
      "23/23 [==============================] - 63s 3s/step - loss: 0.1928 - categorical_accuracy: 0.9608 - val_loss: 0.5809 - val_categorical_accuracy: 0.8100\n",
      "\n",
      "Epoch 00026: saving model to model_init_2021-03-2920_05_49.459422/model-00026-0.17982-0.95928-0.58086-0.81000.h5\n",
      "Epoch 27/30\n",
      "23/23 [==============================] - 62s 3s/step - loss: 0.1646 - categorical_accuracy: 0.9710 - val_loss: 0.5306 - val_categorical_accuracy: 0.8400\n",
      "\n",
      "Epoch 00027: saving model to model_init_2021-03-2920_05_49.459422/model-00027-0.16899-0.96983-0.53057-0.84000.h5\n",
      "Epoch 28/30\n",
      "23/23 [==============================] - 63s 3s/step - loss: 0.1689 - categorical_accuracy: 0.9599 - val_loss: 0.6571 - val_categorical_accuracy: 0.8100\n",
      "\n",
      "Epoch 00028: saving model to model_init_2021-03-2920_05_49.459422/model-00028-0.15448-0.97134-0.65706-0.81000.h5\n",
      "\n",
      "Epoch 00028: ReduceLROnPlateau reducing learning rate to 7.999999797903002e-06.\n",
      "Epoch 29/30\n",
      "23/23 [==============================] - 63s 3s/step - loss: 0.1459 - categorical_accuracy: 0.9826 - val_loss: 0.4628 - val_categorical_accuracy: 0.8400\n"
     ]
    },
    {
     "name": "stdout",
     "output_type": "stream",
     "text": [
      "\n",
      "Epoch 00029: saving model to model_init_2021-03-2920_05_49.459422/model-00029-0.14989-0.98190-0.46280-0.84000.h5\n",
      "Epoch 30/30\n",
      "23/23 [==============================] - 63s 3s/step - loss: 0.1911 - categorical_accuracy: 0.9686 - val_loss: 0.5406 - val_categorical_accuracy: 0.8400\n",
      "\n",
      "Epoch 00030: saving model to model_init_2021-03-2920_05_49.459422/model-00030-0.14569-0.98039-0.54063-0.84000.h5\n"
     ]
    }
   ],
   "source": [
    "total_frames, sampled_frames, num_classes = 30, 18, 5\n",
    "img_height, img_width = 160, 160\n",
    "num_epochs, batch_size = 30, 30\n",
    "\n",
    "model = create_model(total_frames, sampled_frames, img_height, img_width, num_classes)\n",
    "print(\"Total Params:\", model.count_params())\n",
    "history = train_model(model, train_doc, val_doc, batch_size, num_epochs, img_augmentation=True)"
   ]
  },
  {
   "cell_type": "code",
   "execution_count": null,
   "metadata": {},
   "outputs": [],
   "source": [
    "print('Model size in mb: {}'.format('29.5'))"
   ]
  },
  {
   "cell_type": "code",
   "execution_count": 136,
   "metadata": {},
   "outputs": [
    {
     "data": {
      "image/png": "[encoded data removed]",
      "text/plain": [
       "<Figure size 1080x288 with 2 Axes>"
      ]
     },
     "metadata": {},
     "output_type": "display_data"
    }
   ],
   "source": [
    "plot_training_stats(history)"
   ]
  },
  {
   "cell_type": "code",
   "execution_count": null,
   "metadata": {},
   "outputs": [],
   "source": []
  },
  {
   "cell_type": "markdown",
   "metadata": {},
   "source": [
    "## Transfer Learning"
   ]
  },
  {
   "cell_type": "code",
   "execution_count": 168,
   "metadata": {},
   "outputs": [],
   "source": [
    "def create_model(total_frames, sampled_frames, img_height, img_width, num_classes, lstm_cells=64, \n",
    "                 dense_neurons=64, dropout=0.25, freeze_layers=True):\n",
    "    \n",
    "    mobilenet_layers = mobilenet.MobileNet(weights='imagenet', include_top=False)\n",
    "    \n",
    "    # using pre-downloaded imagenet weights - network connectivity limitation\n",
    "    # mobilenet_layers = mobilenet.MobileNet(weights=None, include_top=False)\n",
    "    # mobilenet_layers.load_weights('mobilenet_1_0_224_tf_no_top_imagenet_predownloaded.h5')\n",
    "    \n",
    "    model = Sequential()\n",
    "    model.add(TimeDistributed(mobilenet_layers, input_shape = (sampled_frames, img_height, img_width, 3)))\n",
    "    \n",
    "    if freeze_layers:\n",
    "        for layer in model.layers:\n",
    "            layer.trainable = False\n",
    "\n",
    "    model.add(TimeDistributed(BatchNormalization()))\n",
    "    model.add(TimeDistributed(MaxPooling2D((2, 2))))\n",
    "    model.add(TimeDistributed(Flatten()))\n",
    "\n",
    "    model.add(LSTM(lstm_cells))\n",
    "    model.add(Dropout(dropout))\n",
    "\n",
    "    model.add(Dense(dense_neurons,activation='relu'))\n",
    "    model.add(Dropout(dropout))\n",
    "\n",
    "    model.add(Dense(num_classes, activation='softmax'))\n",
    "\n",
    "    optimiser = optimizers.Adam()\n",
    "    model.compile(optimizer=optimiser, loss='categorical_crossentropy', metrics=['categorical_accuracy'])\n",
    "    \n",
    "    return model"
   ]
  },
  {
   "cell_type": "code",
   "execution_count": 149,
   "metadata": {},
   "outputs": [
    {
     "name": "stdout",
     "output_type": "stream",
     "text": [
      "Total Params: 4302661\n",
      "Epoch 1/30\n",
      "Source dir: \"Dataset/train\", Batch Size: 30\n",
      "Source dir: \"Dataset/val\", Batch Size: 30\n",
      "23/23 [==============================] - 83s 4s/step - loss: 1.4394 - categorical_accuracy: 0.3885 - val_loss: 1.3058 - val_categorical_accuracy: 0.4200\n",
      "\n",
      "Epoch 00001: saving model to model_init_2021-03-29_20_56_38.856594/model-00001-1.43372-0.39065-1.30582-0.42000.h5\n",
      "Epoch 2/30\n",
      "23/23 [==============================] - 49s 2s/step - loss: 1.0183 - categorical_accuracy: 0.6594 - val_loss: 0.9744 - val_categorical_accuracy: 0.6100\n",
      "\n",
      "Epoch 00002: saving model to model_init_2021-03-29_20_56_38.856594/model-00002-1.01586-0.65913-0.97440-0.61000.h5\n",
      "Epoch 3/30\n",
      "23/23 [==============================] - 64s 3s/step - loss: 0.7230 - categorical_accuracy: 0.7886 - val_loss: 0.8491 - val_categorical_accuracy: 0.7200\n",
      "\n",
      "Epoch 00003: saving model to model_init_2021-03-29_20_56_38.856594/model-00003-0.72605-0.79336-0.84910-0.72000.h5\n",
      "Epoch 4/30\n",
      "23/23 [==============================] - 62s 3s/step - loss: 0.4950 - categorical_accuracy: 0.8752 - val_loss: 0.6628 - val_categorical_accuracy: 0.7500\n",
      "\n",
      "Epoch 00004: saving model to model_init_2021-03-29_20_56_38.856594/model-00004-0.50389-0.87029-0.66280-0.75000.h5\n",
      "Epoch 5/30\n",
      "23/23 [==============================] - 65s 3s/step - loss: 0.3588 - categorical_accuracy: 0.9013 - val_loss: 0.5795 - val_categorical_accuracy: 0.7900\n",
      "\n",
      "Epoch 00005: saving model to model_init_2021-03-29_20_56_38.856594/model-00005-0.37137-0.89744-0.57948-0.79000.h5\n",
      "Epoch 6/30\n",
      "23/23 [==============================] - 63s 3s/step - loss: 0.2681 - categorical_accuracy: 0.9361 - val_loss: 0.9899 - val_categorical_accuracy: 0.6300\n",
      "\n",
      "Epoch 00006: saving model to model_init_2021-03-29_20_56_38.856594/model-00006-0.27267-0.93363-0.98992-0.63000.h5\n",
      "Epoch 7/30\n",
      "23/23 [==============================] - 62s 3s/step - loss: 0.1907 - categorical_accuracy: 0.9527 - val_loss: 0.6753 - val_categorical_accuracy: 0.7500\n",
      "\n",
      "Epoch 00007: saving model to model_init_2021-03-29_20_56_38.856594/model-00007-0.17608-0.96380-0.67526-0.75000.h5\n",
      "Epoch 8/30\n",
      "23/23 [==============================] - 63s 3s/step - loss: 0.1708 - categorical_accuracy: 0.9483 - val_loss: 0.5647 - val_categorical_accuracy: 0.7900\n",
      "\n",
      "Epoch 00008: saving model to model_init_2021-03-29_20_56_38.856594/model-00008-0.15254-0.95928-0.56471-0.79000.h5\n",
      "Epoch 9/30\n",
      "23/23 [==============================] - 69s 3s/step - loss: 0.1594 - categorical_accuracy: 0.9666 - val_loss: 0.6156 - val_categorical_accuracy: 0.7800\n",
      "\n",
      "Epoch 00009: saving model to model_init_2021-03-29_20_56_38.856594/model-00009-0.16475-0.96531-0.61560-0.78000.h5\n",
      "Epoch 10/30\n",
      "23/23 [==============================] - 70s 3s/step - loss: 0.1633 - categorical_accuracy: 0.9623 - val_loss: 0.4624 - val_categorical_accuracy: 0.8500\n",
      "\n",
      "Epoch 00010: saving model to model_init_2021-03-29_20_56_38.856594/model-00010-0.16917-0.96078-0.46235-0.85000.h5\n",
      "Epoch 11/30\n",
      "23/23 [==============================] - 69s 3s/step - loss: 0.1042 - categorical_accuracy: 0.9797 - val_loss: 0.5331 - val_categorical_accuracy: 0.8400\n",
      "\n",
      "Epoch 00011: saving model to model_init_2021-03-29_20_56_38.856594/model-00011-0.10812-0.97888-0.53312-0.84000.h5\n",
      "Epoch 12/30\n",
      "23/23 [==============================] - 65s 3s/step - loss: 0.0864 - categorical_accuracy: 0.9826 - val_loss: 0.4804 - val_categorical_accuracy: 0.8500\n",
      "\n",
      "Epoch 00012: saving model to model_init_2021-03-29_20_56_38.856594/model-00012-0.08875-0.98190-0.48035-0.85000.h5\n",
      "Epoch 13/30\n",
      "23/23 [==============================] - 65s 3s/step - loss: 0.1170 - categorical_accuracy: 0.9561 - val_loss: 0.5531 - val_categorical_accuracy: 0.8300\n",
      "\n",
      "Epoch 00013: saving model to model_init_2021-03-29_20_56_38.856594/model-00013-0.07347-0.98039-0.55315-0.83000.h5\n",
      "Epoch 14/30\n",
      "23/23 [==============================] - 62s 3s/step - loss: 0.1835 - categorical_accuracy: 0.9323 - val_loss: 0.6552 - val_categorical_accuracy: 0.8100\n",
      "\n",
      "Epoch 00014: saving model to model_init_2021-03-29_20_56_38.856594/model-00014-0.16966-0.94268-0.65519-0.81000.h5\n",
      "\n",
      "Epoch 00014: ReduceLROnPlateau reducing learning rate to 0.00020000000949949026.\n",
      "Epoch 15/30\n",
      "23/23 [==============================] - 59s 3s/step - loss: 0.0988 - categorical_accuracy: 0.9715 - val_loss: 0.5569 - val_categorical_accuracy: 0.8100\n",
      "\n",
      "Epoch 00015: saving model to model_init_2021-03-29_20_56_38.856594/model-00015-0.08639-0.98341-0.55689-0.81000.h5\n",
      "Epoch 16/30\n",
      "23/23 [==============================] - 63s 3s/step - loss: 0.1150 - categorical_accuracy: 0.9628 - val_loss: 0.5227 - val_categorical_accuracy: 0.8000\n",
      "\n",
      "Epoch 00016: saving model to model_init_2021-03-29_20_56_38.856594/model-00016-0.08255-0.97436-0.52266-0.80000.h5\n",
      "Epoch 17/30\n",
      "23/23 [==============================] - 63s 3s/step - loss: 0.0643 - categorical_accuracy: 0.9826 - val_loss: 0.5204 - val_categorical_accuracy: 0.8200\n",
      "\n",
      "Epoch 00017: saving model to model_init_2021-03-29_20_56_38.856594/model-00017-0.06628-0.98190-0.52037-0.82000.h5\n",
      "Epoch 18/30\n",
      "23/23 [==============================] - 66s 3s/step - loss: 0.0760 - categorical_accuracy: 0.9744 - val_loss: 0.4387 - val_categorical_accuracy: 0.8700\n",
      "\n",
      "Epoch 00018: saving model to model_init_2021-03-29_20_56_38.856594/model-00018-0.05518-0.98643-0.43871-0.87000.h5\n",
      "Epoch 19/30\n",
      "23/23 [==============================] - 65s 3s/step - loss: 0.0479 - categorical_accuracy: 0.9942 - val_loss: 0.4254 - val_categorical_accuracy: 0.8800\n",
      "\n",
      "Epoch 00019: saving model to model_init_2021-03-29_20_56_38.856594/model-00019-0.04611-0.99397-0.42537-0.88000.h5\n",
      "Epoch 20/30\n",
      "23/23 [==============================] - 64s 3s/step - loss: 0.0506 - categorical_accuracy: 0.9898 - val_loss: 0.4511 - val_categorical_accuracy: 0.8700\n",
      "\n",
      "Epoch 00020: saving model to model_init_2021-03-29_20_56_38.856594/model-00020-0.05037-0.98944-0.45114-0.87000.h5\n",
      "Epoch 21/30\n",
      "23/23 [==============================] - 63s 3s/step - loss: 0.0432 - categorical_accuracy: 0.9913 - val_loss: 0.4947 - val_categorical_accuracy: 0.8300\n",
      "\n",
      "Epoch 00021: saving model to model_init_2021-03-29_20_56_38.856594/model-00021-0.04262-0.99095-0.49475-0.83000.h5\n",
      "Epoch 22/30\n",
      "23/23 [==============================] - 64s 3s/step - loss: 0.0371 - categorical_accuracy: 0.9898 - val_loss: 0.3937 - val_categorical_accuracy: 0.8600\n",
      "\n",
      "Epoch 00022: saving model to model_init_2021-03-29_20_56_38.856594/model-00022-0.03751-0.98944-0.39370-0.86000.h5\n",
      "Epoch 23/30\n",
      "23/23 [==============================] - 63s 3s/step - loss: 0.0417 - categorical_accuracy: 0.9927 - val_loss: 0.4081 - val_categorical_accuracy: 0.8300\n",
      "\n",
      "Epoch 00023: saving model to model_init_2021-03-29_20_56_38.856594/model-00023-0.04105-0.99246-0.40813-0.83000.h5\n",
      "Epoch 24/30\n",
      "23/23 [==============================] - 63s 3s/step - loss: 0.0423 - categorical_accuracy: 0.9942 - val_loss: 0.4601 - val_categorical_accuracy: 0.8700\n",
      "\n",
      "Epoch 00024: saving model to model_init_2021-03-29_20_56_38.856594/model-00024-0.04022-0.99397-0.46007-0.87000.h5\n",
      "Epoch 25/30\n",
      "23/23 [==============================] - 64s 3s/step - loss: 0.0325 - categorical_accuracy: 0.9971 - val_loss: 0.5729 - val_categorical_accuracy: 0.8100\n",
      "\n",
      "Epoch 00025: saving model to model_init_2021-03-29_20_56_38.856594/model-00025-0.03040-0.99698-0.57290-0.81000.h5\n",
      "Epoch 26/30\n",
      "23/23 [==============================] - 64s 3s/step - loss: 0.1017 - categorical_accuracy: 0.9730 - val_loss: 0.5628 - val_categorical_accuracy: 0.8500\n",
      "\n",
      "Epoch 00026: saving model to model_init_2021-03-29_20_56_38.856594/model-00026-0.05577-0.98492-0.56282-0.85000.h5\n",
      "\n",
      "Epoch 00026: ReduceLROnPlateau reducing learning rate to 4.0000001899898055e-05.\n",
      "Epoch 27/30\n",
      "23/23 [==============================] - 63s 3s/step - loss: 0.0320 - categorical_accuracy: 0.9971 - val_loss: 0.5005 - val_categorical_accuracy: 0.8300\n",
      "\n",
      "Epoch 00027: saving model to model_init_2021-03-29_20_56_38.856594/model-00027-0.03169-0.99698-0.50050-0.83000.h5\n",
      "Epoch 28/30\n",
      "23/23 [==============================] - 64s 3s/step - loss: 0.0528 - categorical_accuracy: 0.9942 - val_loss: 0.4628 - val_categorical_accuracy: 0.8800\n",
      "\n",
      "Epoch 00028: saving model to model_init_2021-03-29_20_56_38.856594/model-00028-0.04269-0.99397-0.46278-0.88000.h5\n",
      "Epoch 29/30\n",
      "23/23 [==============================] - 64s 3s/step - loss: 0.0353 - categorical_accuracy: 0.9942 - val_loss: 0.5087 - val_categorical_accuracy: 0.8500\n",
      "\n",
      "Epoch 00029: saving model to model_init_2021-03-29_20_56_38.856594/model-00029-0.03652-0.99397-0.50875-0.85000.h5\n",
      "Epoch 30/30\n",
      "23/23 [==============================] - 63s 3s/step - loss: 0.0361 - categorical_accuracy: 0.9942 - val_loss: 0.5525 - val_categorical_accuracy: 0.8200\n",
      "\n",
      "Epoch 00030: saving model to model_init_2021-03-29_20_56_38.856594/model-00030-0.03684-0.99397-0.55255-0.82000.h5\n",
      "\n",
      "Epoch 00030: ReduceLROnPlateau reducing learning rate to 8.000000525498762e-06.\n"
     ]
    }
   ],
   "source": [
    "total_frames, sampled_frames, num_classes = 30, 18, 5\n",
    "img_height, img_width = 160, 160\n",
    "num_epochs, batch_size = 30, 30\n",
    "\n",
    "model = create_model(total_frames, sampled_frames, img_height, img_width, num_classes)\n",
    "print(\"Total Params:\", model.count_params())\n",
    "history = train_model(model, train_doc, val_doc, batch_size, num_epochs, img_augmentation=True)"
   ]
  },
  {
   "cell_type": "code",
   "execution_count": 153,
   "metadata": {},
   "outputs": [
    {
     "name": "stdout",
     "output_type": "stream",
     "text": [
      "Model size in mb: 24.7\n"
     ]
    }
   ],
   "source": [
    "print('Model size in mb: {}'.format('24.7'))"
   ]
  },
  {
   "cell_type": "code",
   "execution_count": 165,
   "metadata": {},
   "outputs": [
    {
     "data": {
      "image/png": "[encoded data removed]",
      "text/plain": [
       "<Figure size 1080x288 with 2 Axes>"
      ]
     },
     "metadata": {},
     "output_type": "display_data"
    }
   ],
   "source": [
    "plot_training_stats(history)"
   ]
  },
  {
   "cell_type": "code",
   "execution_count": null,
   "metadata": {},
   "outputs": [],
   "source": []
  },
  {
   "cell_type": "markdown",
   "metadata": {},
   "source": [
    "#### We got the `Transfer Learning + LSTM Model` as the best performing model with validation accuracy of: `0.88` & validation loss: `0.46`"
   ]
  },
  {
   "cell_type": "markdown",
   "metadata": {},
   "source": [
    "#### We'll recommend using this model, if the smart TV have 25.7 mb storage space available in it, since the model has best accuracy and in turn will give best user experience in terms of detection of gestures."
   ]
  },
  {
   "cell_type": "code",
   "execution_count": null,
   "metadata": {},
   "outputs": [],
   "source": []
  },
  {
   "cell_type": "markdown",
   "metadata": {},
   "source": [
    "#### For lower spec TV, let's build a relatively lighter model by reducing the total parameters of our Conv3D model."
   ]
  },
  {
   "cell_type": "markdown",
   "metadata": {},
   "source": [
    "### Conv3D with Reduced Parameters - Memory Efficient Model"
   ]
  },
  {
   "cell_type": "code",
   "execution_count": 173,
   "metadata": {},
   "outputs": [],
   "source": [
    "#write your model here\n",
    "\n",
    "def create_model(total_frames, sampled_frames, img_height, img_width, num_classes):\n",
    "    \n",
    "    model = Sequential()\n",
    "    # conv3d layer\n",
    "    model.add(Conv3D(8, (3, 3, 3), padding='same', input_shape=(sampled_frames, img_height, img_width, 3)))\n",
    "    model.add(Activation('relu'))\n",
    "    model.add(BatchNormalization())\n",
    "    model.add(MaxPooling3D(pool_size=(2, 2, 2)))\n",
    "    \n",
    "    # conv3d layer\n",
    "    model.add(Conv3D(16, (2, 2, 2), padding='same'))\n",
    "    model.add(Activation('relu'))\n",
    "    model.add(BatchNormalization())\n",
    "    model.add(MaxPooling3D(pool_size=(2, 2, 2)))\n",
    "    \n",
    "    # conv3d layer\n",
    "    model.add(Conv3D(32, (2, 2, 2), padding='same'))\n",
    "    model.add(Activation('relu'))\n",
    "    model.add(BatchNormalization())\n",
    "    model.add(MaxPooling3D(pool_size=(2, 2, 2)))\n",
    "\n",
    "    # conv3d layer\n",
    "    model.add(Conv3D(64, (2, 2, 2), padding='same'))\n",
    "    model.add(Activation('relu'))\n",
    "    model.add(BatchNormalization())\n",
    "    model.add(MaxPooling3D(pool_size=(2, 2, 2)))\n",
    "    \n",
    "    # Dense layer with drop out\n",
    "    model.add(Flatten())\n",
    "    model.add(Dense(64,activation='relu'))\n",
    "    model.add(BatchNormalization())\n",
    "    model.add(Dropout(0.5))\n",
    "    \n",
    "    # Dense layer with drop out\n",
    "    model.add(Dense(64,activation='relu'))\n",
    "    model.add(BatchNormalization())\n",
    "    model.add(Dropout(0.25))\n",
    "\n",
    "    # Dense layer\n",
    "    model.add(Dense(num_classes, activation='softmax'))\n",
    "    \n",
    "    #optimiser = 'sgd'\n",
    "    optimiser = optimizers.Adam()\n",
    "    \n",
    "    model.compile(optimizer=optimiser, loss='categorical_crossentropy', metrics=['categorical_accuracy'])\n",
    "    \n",
    "    return model"
   ]
  },
  {
   "cell_type": "code",
   "execution_count": 175,
   "metadata": {},
   "outputs": [
    {
     "name": "stdout",
     "output_type": "stream",
     "text": [
      "Total Params: 437413\n",
      "Epoch 1/30\n",
      "Source dir: \"Dataset/val\", Batch Size: 50\n",
      "Source dir: \"Dataset/train\", Batch Size: 50\n",
      "14/14 [==============================] - 94s 7s/step - loss: 1.7112 - categorical_accuracy: 0.3559 - val_loss: 2.2970 - val_categorical_accuracy: 0.3300\n",
      "\n",
      "Epoch 00001: saving model to model_init_2021-03-29_21_54_08.612596/model-00001-1.74369-0.34238-2.29698-0.33000.h5\n",
      "Epoch 2/30\n",
      "14/14 [==============================] - 37s 3s/step - loss: 1.2454 - categorical_accuracy: 0.4959 - val_loss: 1.2916 - val_categorical_accuracy: 0.4900\n",
      "\n",
      "Epoch 00002: saving model to model_init_2021-03-29_21_54_08.612596/model-00002-1.27540-0.48567-1.29158-0.49000.h5\n",
      "Epoch 3/30\n",
      "14/14 [==============================] - 63s 5s/step - loss: 1.0561 - categorical_accuracy: 0.5676 - val_loss: 0.9531 - val_categorical_accuracy: 0.6400\n",
      "\n",
      "Epoch 00003: saving model to model_init_2021-03-29_21_54_08.612596/model-00003-1.06867-0.56109-0.95309-0.64000.h5\n",
      "Epoch 4/30\n",
      "14/14 [==============================] - 64s 5s/step - loss: 0.9649 - categorical_accuracy: 0.6130 - val_loss: 1.0037 - val_categorical_accuracy: 0.6200\n",
      "\n",
      "Epoch 00004: saving model to model_init_2021-03-29_21_54_08.612596/model-00004-0.97338-0.61689-1.00366-0.62000.h5\n",
      "Epoch 5/30\n",
      "14/14 [==============================] - 62s 4s/step - loss: 0.7846 - categorical_accuracy: 0.6823 - val_loss: 0.8312 - val_categorical_accuracy: 0.6400\n",
      "\n",
      "Epoch 00005: saving model to model_init_2021-03-29_21_54_08.612596/model-00005-0.78785-0.68175-0.83123-0.64000.h5\n",
      "Epoch 6/30\n",
      "14/14 [==============================] - 63s 5s/step - loss: 0.8035 - categorical_accuracy: 0.6904 - val_loss: 0.7101 - val_categorical_accuracy: 0.7000\n",
      "\n",
      "Epoch 00006: saving model to model_init_2021-03-29_21_54_08.612596/model-00006-0.78427-0.68627-0.71009-0.70000.h5\n",
      "Epoch 7/30\n",
      "14/14 [==============================] - 61s 4s/step - loss: 0.6413 - categorical_accuracy: 0.7540 - val_loss: 0.5788 - val_categorical_accuracy: 0.7800\n",
      "\n",
      "Epoch 00007: saving model to model_init_2021-03-29_21_54_08.612596/model-00007-0.64634-0.75716-0.57882-0.78000.h5\n",
      "Epoch 8/30\n",
      "14/14 [==============================] - 63s 5s/step - loss: 0.5552 - categorical_accuracy: 0.7927 - val_loss: 0.6935 - val_categorical_accuracy: 0.7100\n",
      "\n",
      "Epoch 00008: saving model to model_init_2021-03-29_21_54_08.612596/model-00008-0.54934-0.79789-0.69349-0.71000.h5\n",
      "Epoch 9/30\n",
      "14/14 [==============================] - 64s 5s/step - loss: 0.5415 - categorical_accuracy: 0.7998 - val_loss: 0.6495 - val_categorical_accuracy: 0.7800\n",
      "\n",
      "Epoch 00009: saving model to model_init_2021-03-29_21_54_08.612596/model-00009-0.52693-0.80543-0.64950-0.78000.h5\n",
      "Epoch 10/30\n",
      "14/14 [==============================] - 63s 4s/step - loss: 0.4321 - categorical_accuracy: 0.8548 - val_loss: 0.8128 - val_categorical_accuracy: 0.6800\n",
      "\n",
      "Epoch 00010: saving model to model_init_2021-03-29_21_54_08.612596/model-00010-0.43814-0.85520-0.81278-0.68000.h5\n",
      "Epoch 11/30\n",
      "14/14 [==============================] - 62s 4s/step - loss: 0.4210 - categorical_accuracy: 0.8581 - val_loss: 0.8689 - val_categorical_accuracy: 0.6600\n",
      "\n",
      "Epoch 00011: saving model to model_init_2021-03-29_21_54_08.612596/model-00011-0.40528-0.86275-0.86887-0.66000.h5\n",
      "\n",
      "Epoch 00011: ReduceLROnPlateau reducing learning rate to 0.00020000000949949026.\n",
      "Epoch 12/30\n",
      "14/14 [==============================] - 55s 4s/step - loss: 0.3686 - categorical_accuracy: 0.8777 - val_loss: 0.6882 - val_categorical_accuracy: 0.7100\n",
      "\n",
      "Epoch 00012: saving model to model_init_2021-03-29_21_54_08.612596/model-00012-0.35066-0.87934-0.68815-0.71000.h5\n",
      "Epoch 13/30\n",
      "14/14 [==============================] - 63s 4s/step - loss: 0.3698 - categorical_accuracy: 0.8758 - val_loss: 0.5430 - val_categorical_accuracy: 0.7500\n",
      "\n",
      "Epoch 00013: saving model to model_init_2021-03-29_21_54_08.612596/model-00013-0.37234-0.87330-0.54299-0.75000.h5\n",
      "Epoch 14/30\n",
      "14/14 [==============================] - 63s 4s/step - loss: 0.3630 - categorical_accuracy: 0.8945 - val_loss: 0.5156 - val_categorical_accuracy: 0.7500\n",
      "\n",
      "Epoch 00014: saving model to model_init_2021-03-29_21_54_08.612596/model-00014-0.33611-0.90498-0.51564-0.75000.h5\n",
      "Epoch 15/30\n",
      "14/14 [==============================] - 63s 4s/step - loss: 0.3164 - categorical_accuracy: 0.8872 - val_loss: 0.5011 - val_categorical_accuracy: 0.8100\n",
      "\n",
      "Epoch 00015: saving model to model_init_2021-03-29_21_54_08.612596/model-00015-0.31923-0.88537-0.50109-0.81000.h5\n",
      "Epoch 16/30\n",
      "14/14 [==============================] - 63s 4s/step - loss: 0.3356 - categorical_accuracy: 0.8963 - val_loss: 0.4448 - val_categorical_accuracy: 0.8100\n",
      "\n",
      "Epoch 00016: saving model to model_init_2021-03-29_21_54_08.612596/model-00016-0.33284-0.89894-0.44479-0.81000.h5\n",
      "Epoch 17/30\n",
      "14/14 [==============================] - 63s 4s/step - loss: 0.3028 - categorical_accuracy: 0.8925 - val_loss: 0.4627 - val_categorical_accuracy: 0.8200\n",
      "\n",
      "Epoch 00017: saving model to model_init_2021-03-29_21_54_08.612596/model-00017-0.30677-0.88688-0.46266-0.82000.h5\n",
      "Epoch 18/30\n",
      "14/14 [==============================] - 63s 5s/step - loss: 0.2654 - categorical_accuracy: 0.9159 - val_loss: 0.4925 - val_categorical_accuracy: 0.7900\n",
      "\n",
      "Epoch 00018: saving model to model_init_2021-03-29_21_54_08.612596/model-00018-0.26524-0.91554-0.49247-0.79000.h5\n",
      "Epoch 19/30\n",
      "14/14 [==============================] - 63s 4s/step - loss: 0.3286 - categorical_accuracy: 0.8882 - val_loss: 0.5233 - val_categorical_accuracy: 0.7800\n",
      "\n",
      "Epoch 00019: saving model to model_init_2021-03-29_21_54_08.612596/model-00019-0.31415-0.89442-0.52332-0.78000.h5\n",
      "Epoch 20/30\n",
      "14/14 [==============================] - 62s 4s/step - loss: 0.2728 - categorical_accuracy: 0.9116 - val_loss: 0.4652 - val_categorical_accuracy: 0.8200\n",
      "\n",
      "Epoch 00020: saving model to model_init_2021-03-29_21_54_08.612596/model-00020-0.26945-0.91101-0.46520-0.82000.h5\n",
      "\n",
      "Epoch 00020: ReduceLROnPlateau reducing learning rate to 4.0000001899898055e-05.\n",
      "Epoch 21/30\n",
      "14/14 [==============================] - 62s 4s/step - loss: 0.2533 - categorical_accuracy: 0.9259 - val_loss: 0.4645 - val_categorical_accuracy: 0.8300\n",
      "\n",
      "Epoch 00021: saving model to model_init_2021-03-29_21_54_08.612596/model-00021-0.25632-0.92609-0.46446-0.83000.h5\n",
      "Epoch 22/30\n",
      "14/14 [==============================] - 63s 4s/step - loss: 0.2400 - categorical_accuracy: 0.9173 - val_loss: 0.4571 - val_categorical_accuracy: 0.8300\n",
      "\n",
      "Epoch 00022: saving model to model_init_2021-03-29_21_54_08.612596/model-00022-0.24285-0.91704-0.45712-0.83000.h5\n",
      "Epoch 23/30\n",
      "14/14 [==============================] - 64s 5s/step - loss: 0.2835 - categorical_accuracy: 0.9112 - val_loss: 0.4235 - val_categorical_accuracy: 0.8600\n",
      "\n",
      "Epoch 00023: saving model to model_init_2021-03-29_21_54_08.612596/model-00023-0.26742-0.91855-0.42354-0.86000.h5\n",
      "Epoch 24/30\n",
      "14/14 [==============================] - 63s 4s/step - loss: 0.2409 - categorical_accuracy: 0.9212 - val_loss: 0.4681 - val_categorical_accuracy: 0.8100\n",
      "\n",
      "Epoch 00024: saving model to model_init_2021-03-29_21_54_08.612596/model-00024-0.23502-0.92911-0.46807-0.81000.h5\n",
      "Epoch 25/30\n",
      "14/14 [==============================] - 63s 4s/step - loss: 0.2852 - categorical_accuracy: 0.9092 - val_loss: 0.4119 - val_categorical_accuracy: 0.8600\n",
      "\n",
      "Epoch 00025: saving model to model_init_2021-03-29_21_54_08.612596/model-00025-0.27786-0.91252-0.41185-0.86000.h5\n",
      "Epoch 26/30\n",
      "14/14 [==============================] - 62s 4s/step - loss: 0.2476 - categorical_accuracy: 0.9207 - val_loss: 0.4190 - val_categorical_accuracy: 0.8500\n",
      "\n",
      "Epoch 00026: saving model to model_init_2021-03-29_21_54_08.612596/model-00026-0.23839-0.92459-0.41903-0.85000.h5\n",
      "Epoch 27/30\n",
      "14/14 [==============================] - 62s 4s/step - loss: 0.2707 - categorical_accuracy: 0.9178 - val_loss: 0.4499 - val_categorical_accuracy: 0.8300\n",
      "\n",
      "Epoch 00027: saving model to model_init_2021-03-29_21_54_08.612596/model-00027-0.26489-0.92157-0.44993-0.83000.h5\n",
      "Epoch 28/30\n",
      "14/14 [==============================] - 64s 5s/step - loss: 0.2346 - categorical_accuracy: 0.9398 - val_loss: 0.4132 - val_categorical_accuracy: 0.8600\n",
      "\n",
      "Epoch 00028: saving model to model_init_2021-03-29_21_54_08.612596/model-00028-0.24013-0.93665-0.41316-0.86000.h5\n",
      "Epoch 29/30\n",
      "14/14 [==============================] - 66s 5s/step - loss: 0.2419 - categorical_accuracy: 0.9274 - val_loss: 0.4034 - val_categorical_accuracy: 0.8500\n",
      "\n",
      "Epoch 00029: saving model to model_init_2021-03-29_21_54_08.612596/model-00029-0.24170-0.92760-0.40342-0.85000.h5\n",
      "Epoch 30/30\n",
      "14/14 [==============================] - 64s 5s/step - loss: 0.2372 - categorical_accuracy: 0.9302 - val_loss: 0.4898 - val_categorical_accuracy: 0.8300\n",
      "\n",
      "Epoch 00030: saving model to model_init_2021-03-29_21_54_08.612596/model-00030-0.23615-0.93062-0.48978-0.83000.h5\n"
     ]
    }
   ],
   "source": [
    "total_frames, sampled_frames, num_classes = 30, 18, 5\n",
    "img_height, img_width = 160, 160\n",
    "num_epochs, batch_size = 30, 50\n",
    "\n",
    "model = create_model(total_frames, sampled_frames, img_height, img_width, num_classes)\n",
    "print(\"Total Params:\", model.count_params())\n",
    "history = train_model(model, train_doc, val_doc, batch_size, num_epochs, img_augmentation=True)"
   ]
  },
  {
   "cell_type": "code",
   "execution_count": 176,
   "metadata": {},
   "outputs": [
    {
     "name": "stdout",
     "output_type": "stream",
     "text": [
      "Model size in mb: 24.7\n"
     ]
    },
    {
     "data": {
      "image/png": "[encoded data removed]",
      "text/plain": [
       "<Figure size 1080x288 with 2 Axes>"
      ]
     },
     "metadata": {},
     "output_type": "display_data"
    }
   ],
   "source": [
    "print('Model size in mb: {}'.format('24.7'))\n",
    "plot_training_stats(history)"
   ]
  },
  {
   "cell_type": "code",
   "execution_count": null,
   "metadata": {},
   "outputs": [],
   "source": []
  },
  {
   "cell_type": "code",
   "execution_count": null,
   "metadata": {},
   "outputs": [],
   "source": []
  },
  {
   "cell_type": "markdown",
   "metadata": {},
   "source": [
    "# Loading model and Testing"
   ]
  },
  {
   "cell_type": "code",
   "execution_count": 32,
   "metadata": {},
   "outputs": [],
   "source": [
    "import time\n",
    "from keras.models import load_model"
   ]
  },
  {
   "cell_type": "code",
   "execution_count": 33,
   "metadata": {},
   "outputs": [],
   "source": [
    "# memory efficient model\n",
    "model = load_model('model-00028-0.24013-0.93665-0.41316-0.86000.h5')"
   ]
  },
  {
   "cell_type": "code",
   "execution_count": 34,
   "metadata": {},
   "outputs": [],
   "source": [
    "total_frames, sampled_frames, num_classes = 30, 18, 5\n",
    "img_height, img_width = 160, 160\n",
    "num_epochs, batch_size = 30, 50"
   ]
  },
  {
   "cell_type": "code",
   "execution_count": 35,
   "metadata": {},
   "outputs": [],
   "source": [
    "val_generator = generator(\n",
    "        val_path, val_doc, batch_size, total_frames, sampled_frames, img_height, img_width, img_augmentation=True)"
   ]
  },
  {
   "cell_type": "code",
   "execution_count": 36,
   "metadata": {},
   "outputs": [
    {
     "name": "stdout",
     "output_type": "stream",
     "text": [
      "Source dir: \"Dataset/val\", Batch Size: 50\n"
     ]
    }
   ],
   "source": [
    "batch_data, batch_labels=next(val_generator)"
   ]
  },
  {
   "cell_type": "code",
   "execution_count": 37,
   "metadata": {},
   "outputs": [
    {
     "data": {
      "text/plain": [
       "50"
      ]
     },
     "execution_count": 37,
     "metadata": {},
     "output_type": "execute_result"
    }
   ],
   "source": [
    "len(batch_labels)"
   ]
  },
  {
   "cell_type": "code",
   "execution_count": 38,
   "metadata": {},
   "outputs": [
    {
     "name": "stdout",
     "output_type": "stream",
     "text": [
      "[0 2 2 3 4 3 2 2 3 0 2 0 1 3 1 3 2 0 1 0 1 2 2 2 0 4 1 3 0 1 2 4 2 1 3 2 1\n",
      " 3 2 4 2 4 2 1 3 4 1 2 0 3]\n"
     ]
    }
   ],
   "source": [
    "print(np.argmax(model.predict(batch_data[:,:,:,:,:]),axis=1))"
   ]
  },
  {
   "cell_type": "code",
   "execution_count": null,
   "metadata": {},
   "outputs": [],
   "source": []
  }
 ],
 "metadata": {
  "kernelspec": {
   "display_name": "Python 3",
   "language": "python",
   "name": "python3"
  },
  "language_info": {
   "codemirror_mode": {
    "name": "ipython",
    "version": 3
   },
   "file_extension": ".py",
   "mimetype": "text/x-python",
   "name": "python",
   "nbconvert_exporter": "python",
   "pygments_lexer": "ipython3",
   "version": "3.6.10"
  }
 },
 "nbformat": 4,
 "nbformat_minor": 2
}
